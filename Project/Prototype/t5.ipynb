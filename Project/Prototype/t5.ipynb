{
 "cells": [
  {
   "cell_type": "markdown",
   "metadata": {},
   "source": [
    "## [MYCODE] T5-base Model Test - Simple SQL"
   ]
  },
  {
   "cell_type": "code",
   "execution_count": 21,
   "metadata": {},
   "outputs": [
    {
     "name": "stderr",
     "output_type": "stream",
     "text": [
      "The `xla_device` argument has been deprecated in v4.4.0 of Transformers. It is ignored and you can safely remove it from your `config.json` file.\n",
      "The `xla_device` argument has been deprecated in v4.4.0 of Transformers. It is ignored and you can safely remove it from your `config.json` file.\n",
      "The `xla_device` argument has been deprecated in v4.4.0 of Transformers. It is ignored and you can safely remove it from your `config.json` file.\n",
      "The `xla_device` argument has been deprecated in v4.4.0 of Transformers. It is ignored and you can safely remove it from your `config.json` file.\n"
     ]
    },
    {
     "name": "stdout",
     "output_type": "stream",
     "text": [
      "Generated SQL Query: SELECT Employees FROM table WHERE Earnings ( $ ) > 50000\n"
     ]
    }
   ],
   "source": [
    "from transformers import AutoModelForSeq2SeqLM, AutoTokenizer\n",
    "\n",
    "# 모델과 토크나이저 불러오기\n",
    "model_name = \"mrm8488/t5-base-finetuned-wikiSQL\"\n",
    "base_model = AutoModelForSeq2SeqLM.from_pretrained(model_name)\n",
    "base_tokenizer = AutoTokenizer.from_pretrained(model_name)\n",
    "\n",
    "user_question = \"Get the names of employees who earn more than 50000.\"\n",
    "database_schema = '''\"employees\" \"id\" int, \"name\" text, \"salary\" float,\n",
    "    primary key: \"id\" [SEP]\n",
    "'''\n",
    "\n",
    "input_text = f\"Generate an SQL query using the schema below.\\nSchema: {database_schema}\\nQuestion: {user_question}\"\n",
    "\n",
    "# 입력 텍스트 토큰화\n",
    "input_ids = base_tokenizer.encode(input_text, return_tensors=\"pt\")\n",
    "\n",
    "# 모델을 사용하여 텍스트 생성\n",
    "output_ids = base_model.generate(input_ids, max_length=100)\n",
    "\n",
    "# 생성된 SQL 쿼리 디코딩\n",
    "sql_query = base_tokenizer.decode(output_ids[0], skip_special_tokens=True)\n",
    "\n",
    "# 결과 출력\n",
    "print(\"Generated SQL Query:\", sql_query)\n"
   ]
  },
  {
   "cell_type": "markdown",
   "metadata": {},
   "source": [
    "## [MYCODE] T5-Large Model Test - simple SQL"
   ]
  },
  {
   "cell_type": "code",
   "execution_count": 1,
   "metadata": {},
   "outputs": [
    {
     "name": "stdout",
     "output_type": "stream",
     "text": [
      "Generated SQL Query: SELECT name FROM employees WHERE salary > 50000\n"
     ]
    }
   ],
   "source": [
    "import torch\n",
    "from transformers import AutoTokenizer, AutoModelForSeq2SeqLM\n",
    "\n",
    "# 모델 이름\n",
    "MODEL_NAME = \"gaussalgo/T5-LM-Large-text2sql-spider\"\n",
    "\n",
    "# 모델과 토크나이저 로드\n",
    "large_tokenizer = AutoTokenizer.from_pretrained(MODEL_NAME)\n",
    "large_model = AutoModelForSeq2SeqLM.from_pretrained(MODEL_NAME)\n",
    "\n",
    "\n",
    "# 질문과 스키마 정의\n",
    "question = \"Get the names of employees who earn more than 50000.\"\n",
    "\n",
    "schema = '''\"employees\" \"id\" int, \"name\" text, \"salary\" float,\n",
    "    primary key: \"id\" [SEP]\n",
    "'''\n",
    "\n",
    "# 입력 텍스트 생성\n",
    "input_text = f\"Generate an SQL query using the schema below.:\\nSchema: {schema}\\nQuestion: {question}\"\n",
    "\n",
    "# 입력 텍스트를 토큰화\n",
    "inputs = large_tokenizer(input_text, return_tensors=\"pt\", padding=True, truncation=True, max_length=512)\n",
    "\n",
    "# 장치 설정\n",
    "device = torch.device(\"mps\" if torch.backends.mps.is_available() else \"cpu\")\n",
    "\n",
    "# 모델과 데이터를 장치로 이동\n",
    "large_model = large_model.to(device)\n",
    "inputs = {key: value.to(device) for key, value in inputs.items()}\n",
    "\n",
    "\n",
    "# 모델로 시퀀스 생성\n",
    "with torch.no_grad():\n",
    "    outputs = large_model.generate(\n",
    "        input_ids=inputs[\"input_ids\"],\n",
    "        attention_mask=inputs[\"attention_mask\"],\n",
    "        max_length=512,\n",
    "        num_beams=10,  # 빔 서치 사용 (선택)\n",
    "        early_stopping=True\n",
    "    )\n",
    "\n",
    "# 생성된 토큰 ID를 텍스트로 디코딩\n",
    "sql_query = large_tokenizer.decode(outputs[0], skip_special_tokens=True)\n",
    "\n",
    "# 결과 출력\n",
    "print(\"Generated SQL Query:\", sql_query)"
   ]
  },
  {
   "cell_type": "markdown",
   "metadata": {},
   "source": [
    "## [MYCODE] T5-base Model Test - little complicated SQL"
   ]
  },
  {
   "cell_type": "code",
   "execution_count": 16,
   "metadata": {},
   "outputs": [
    {
     "name": "stdout",
     "output_type": "stream",
     "text": [
      "Generated SQL Query: SELECT COUNT Member_ID FROM table WHERE Stock Quantity  10\n"
     ]
    }
   ],
   "source": [
    "\n",
    "user_question = \"Get the names of employees who earn more than 50000.\"\n",
    "database_schema = \"Table: Employees(id, name, salary)\"\n",
    "\n",
    "input_text = f\"Generate an SQL query using the schema below.\\nSchema: {database_schema}\\nQuestion: {user_question}\"\n",
    "# 질문과 스키마 정의\n",
    "question = \"For each item category where the stock quantity is less than 10, calculate the average price of the items in that category and the number of unique members who purchased those items.\"\n",
    "\n",
    "schema = ''' \n",
    "\"item\" \"Item_ID\" int, \"Item_Name\" text, \"Price\" float, \"Category\" text, \"Stock_Quantity\" int, \"Brand\" text, \"Added_Date\" date,\n",
    "    primary key: \"Item_ID\" [SEP] \n",
    "\"purchase\" \"Purchase_ID\" int, \"Purchase_Date\" date, \"Quantity\" int, \"Total_Price\" float, \n",
    "    foreign_key: \"Member_ID\" int from \"member\", \"Member_ID\", \n",
    "                 \"Item_ID\" int from \"item\", \"Item_ID\", \n",
    "    primary key: \"Purchase_ID\" [SEP] \n",
    "\"member\" \"Member_ID\" int, \"Name\" text, \"Age\" int, \"Gender\" text, \"Email\" text, \"Phone\" text, \"Registration_Date\" date,\n",
    "    primary key: \"Member_ID\" [SEP]\n",
    "'''\n",
    "\n",
    "# 입력 텍스트 생성\n",
    "input_text = f\"Generate an SQL query using the schema below.:\\nSchema: {schema}\\nQuestion: {question}\"\n",
    "\n",
    "\n",
    "# 입력 텍스트 토큰화\n",
    "input_ids = base_tokenizer.encode(input_text, return_tensors=\"pt\")\n",
    "\n",
    "# 모델을 사용하여 텍스트 생성\n",
    "output_ids = base_model.generate(input_ids, max_length=100)\n",
    "\n",
    "# 생성된 SQL 쿼리 디코딩\n",
    "sql_query = base_tokenizer.decode(output_ids[0], skip_special_tokens=True)\n",
    "\n",
    "# 결과 출력\n",
    "print(\"Generated SQL Query:\", sql_query)\n"
   ]
  },
  {
   "cell_type": "markdown",
   "metadata": {},
   "source": [
    "## [MYCODE] T5-Large Model Test - little complicated SQL"
   ]
  },
  {
   "cell_type": "code",
   "execution_count": null,
   "metadata": {},
   "outputs": [
    {
     "name": "stdout",
     "output_type": "stream",
     "text": [
      "Generated SQL Query: SELECT avg(T1.Price), count(*) FROM item AS T1 JOIN purchase AS T2 ON T1.Item_ID = T2.Item_ID WHERE T2.stock_quantity  10 GROUP BY T1.Category\n"
     ]
    }
   ],
   "source": [
    "\n",
    "# 질문과 스키마 정의\n",
    "question = \"For each item category where the stock quantity is less than 10, calculate the average price of the items in that category and the number of unique members who purchased those items.\"\n",
    "\n",
    "schema = ''' \n",
    "\"item\" \"Item_ID\" int, \"Item_Name\" text, \"Price\" float, \"Category\" text, \"Stock_Quantity\" int, \"Brand\" text, \"Added_Date\" date,\n",
    "    primary key: \"Item_ID\" [SEP] \n",
    "\"purchase\" \"Purchase_ID\" int, \"Purchase_Date\" date, \"Quantity\" int, \"Total_Price\" float, \n",
    "    foreign_key: \"Member_ID\" int from \"member\", \"Member_ID\", \n",
    "                 \"Item_ID\" int from \"item\", \"Item_ID\", \n",
    "    primary key: \"Purchase_ID\" [SEP] \n",
    "\"member\" \"Member_ID\" int, \"Name\" text, \"Age\" int, \"Gender\" text, \"Email\" text, \"Phone\" text, \"Registration_Date\" date,\n",
    "    primary key: \"Member_ID\" [SEP]\n",
    "'''\n",
    "\n",
    "# 입력 텍스트 생성\n",
    "input_text = f\"Generate an SQL query using the schema below.:\\nSchema: {schema}\\nQuestion: {question}\"\n",
    "\n",
    "# 입력 텍스트를 토큰화\n",
    "inputs = large_tokenizer(input_text, return_tensors=\"pt\", padding=True, truncation=True, max_length=512)\n",
    "\n",
    "# 장치 설정\n",
    "device = torch.device(\"mps\" if torch.backends.mps.is_available() else \"cpu\")\n",
    "\n",
    "# 모델과 데이터를 장치로 이동\n",
    "large_model = large_model.to(device)\n",
    "inputs = {key: value.to(device) for key, value in inputs.items()}\n",
    "\n",
    "\n",
    "# 모델로 시퀀스 생성\n",
    "with torch.no_grad():\n",
    "    outputs = large_model.generate(\n",
    "        input_ids=inputs[\"input_ids\"],\n",
    "        attention_mask=inputs[\"attention_mask\"],\n",
    "        max_length=512,\n",
    "        num_beams=10,  # 빔 서치 사용 (선택)\n",
    "        early_stopping=True\n",
    "    )\n",
    "\n",
    "# 생성된 토큰 ID를 텍스트로 디코딩\n",
    "sql_query = large_tokenizer.decode(outputs[0], skip_special_tokens=True)\n",
    "\n",
    "# 결과 출력\n",
    "print(\"Generated SQL Query:\", sql_query)\n"
   ]
  },
  {
   "cell_type": "markdown",
   "metadata": {},
   "source": [
    "## [MYCODE] T5-Large Model Test - very complicated SQL"
   ]
  },
  {
   "cell_type": "code",
   "execution_count": 2,
   "metadata": {},
   "outputs": [
    {
     "name": "stdout",
     "output_type": "stream",
     "text": [
      "Generated SQL Query: SELECT T3.shipment_info FROM purchase AS T1 JOIN shipment AS T2 ON T1.purchase_id = T2.purchase_id JOIN item AS T3 ON T2.item_id = T3.item_id ORDER BY T2.shipment_date DESC LIMIT 1\n"
     ]
    }
   ],
   "source": [
    "\n",
    "# 질문과 스키마 정의\n",
    "question = \"For items with an average rating of 4 or higher, belonging to a specific category, and purchased most recently, retrieve the shipment information including the buyer's name, shipment date, and item name.\"\n",
    "\n",
    "schema = ''' \n",
    "\"item\" \"Item_ID\" int, \"Item_Name\" text, \"Price\" float, \"Category\" text, \"Stock_Quantity\" int, \"Brand\" text, \"Added_Date\" date,\n",
    "    primary key: \"Item_ID\" [SEP] \n",
    "\"purchase\" \"Purchase_ID\" int, \"Purchase_Date\" date, \"Quantity\" int, \"Total_Price\" float, \n",
    "    foreign_key: \"Member_ID\" int from \"member\", \"Member_ID\", \n",
    "                 \"Item_ID\" int from \"item\", \"Item_ID\", \n",
    "    primary key: \"Purchase_ID\" [SEP] \n",
    "\"member\" \"Member_ID\" int, \"Name\" text, \"Age\" int, \"Gender\" text, \"Email\" text, \"Phone\" text, \"Registration_Date\" date,\n",
    "    primary key: \"Member_ID\" [SEP]\n",
    "\"shipment\" \"Shipment_ID\" int, \"Purchase_ID\" int, \"Shipment_Date\" date, \"Courier\" text, \n",
    "    foreign_key: \"Purchase_ID\" int from \"purchase\", \"Purchase_ID\",\n",
    "    primary key: \"Shipment_ID\" [SEP]\n",
    "\"review\" \"Review_ID\" int, \"Member_ID\" int, \"Item_ID\" int, \"Rating\" int, \"Review_Text\" text, \"Review_Date\" date, \n",
    "    foreign_key: \"Member_ID\" int from \"member\", \"Member_ID\", \n",
    "                 \"Item_ID\" int from \"item\", \"Item_ID\", \n",
    "    primary key: \"Review_ID\" [SEP]\n",
    "'''\n",
    "\n",
    "\n",
    "# 입력 텍스트 생성\n",
    "input_text = f\"Generate an SQL query using the schema below.:\\nSchema: {schema}\\nQuestion: {question}\"\n",
    "\n",
    "# 입력 텍스트를 토큰화\n",
    "inputs = large_tokenizer(input_text, return_tensors=\"pt\", padding=True, truncation=True, max_length=512)\n",
    "\n",
    "# 장치 설정\n",
    "device = torch.device(\"mps\" if torch.backends.mps.is_available() else \"cpu\")\n",
    "\n",
    "# 모델과 데이터를 장치로 이동\n",
    "large_model = large_model.to(device)\n",
    "inputs = {key: value.to(device) for key, value in inputs.items()}\n",
    "\n",
    "\n",
    "# 모델로 시퀀스 생성\n",
    "with torch.no_grad():\n",
    "    outputs = large_model.generate(\n",
    "        input_ids=inputs[\"input_ids\"],\n",
    "        attention_mask=inputs[\"attention_mask\"],\n",
    "        max_length=512,\n",
    "        num_beams=10,  # 빔 서치 사용 (선택)\n",
    "        early_stopping=True\n",
    "    )\n",
    "\n",
    "# 생성된 토큰 ID를 텍스트로 디코딩\n",
    "sql_query = large_tokenizer.decode(outputs[0], skip_special_tokens=True)\n",
    "\n",
    "# 결과 출력\n",
    "print(\"Generated SQL Query:\", sql_query)"
   ]
  },
  {
   "cell_type": "markdown",
   "metadata": {},
   "source": [
    "## [MYCODE] T5-Large 마지막 테이블 조회 질문하기"
   ]
  },
  {
   "cell_type": "code",
   "execution_count": 6,
   "metadata": {},
   "outputs": [
    {
     "name": "stdout",
     "output_type": "stream",
     "text": [
      "Generated SQL Query: SELECT T2.review_text, T2.review_date FROM review AS T1 JOIN item AS T2 ON T1.item_id = T2.item_id WHERE T1.rating >= 4\n"
     ]
    }
   ],
   "source": [
    "\n",
    "# 질문과 스키마 정의\n",
    "question = \"Find all reviews with a rating of 4 or higher, including the review text and the review date.\"\n",
    "\n",
    "schema = ''' \n",
    "\"item\" \"Item_ID\" int, \"Item_Name\" text, \"Price\" float, \"Category\" text, \"Stock_Quantity\" int, \"Brand\" text, \"Added_Date\" date,\n",
    "    primary key: \"Item_ID\" [SEP] \n",
    "\"purchase\" \"Purchase_ID\" int, \"Purchase_Date\" date, \"Quantity\" int, \"Total_Price\" float, \n",
    "    foreign_key: \"Member_ID\" int from \"member\", \"Member_ID\", \n",
    "                 \"Item_ID\" int from \"item\", \"Item_ID\", \n",
    "    primary key: \"Purchase_ID\" [SEP] \n",
    "\"member\" \"Member_ID\" int, \"Name\" text, \"Age\" int, \"Gender\" text, \"Email\" text, \"Phone\" text, \"Registration_Date\" date,\n",
    "    primary key: \"Member_ID\" [SEP]\n",
    "\"shipment\" \"Shipment_ID\" int, \"Purchase_ID\" int, \"Shipment_Date\" date, \"Courier\" text, \n",
    "    foreign_key: \"Purchase_ID\" int from \"purchase\", \"Purchase_ID\",\n",
    "    primary key: \"Shipment_ID\" [SEP]\n",
    "\"review\" \"Review_ID\" int, \"Member_ID\" int, \"Item_ID\" int, \"Rating\" int, \"Review_Text\" text, \"Review_Date\" date, \n",
    "    foreign_key: \"Member_ID\" int from \"member\", \"Member_ID\", \n",
    "                 \"Item_ID\" int from \"item\", \"Item_ID\", \n",
    "    primary key: \"Review_ID\" [SEP]\n",
    "'''\n",
    "\n",
    "\n",
    "# 입력 텍스트 생성\n",
    "input_text = f\"Generate an SQL query using the schema below.:\\nSchema: {schema}\\nQuestion: {question}\"\n",
    "\n",
    "# 입력 텍스트를 토큰화\n",
    "inputs = large_tokenizer(input_text, return_tensors=\"pt\", padding=True, truncation=True, max_length=512)\n",
    "\n",
    "# 장치 설정\n",
    "device = torch.device(\"mps\" if torch.backends.mps.is_available() else \"cpu\")\n",
    "\n",
    "# 모델과 데이터를 장치로 이동\n",
    "large_model = large_model.to(device)\n",
    "inputs = {key: value.to(device) for key, value in inputs.items()}\n",
    "\n",
    "\n",
    "# 모델로 시퀀스 생성\n",
    "with torch.no_grad():\n",
    "    outputs = large_model.generate(\n",
    "        input_ids=inputs[\"input_ids\"],\n",
    "        attention_mask=inputs[\"attention_mask\"],\n",
    "        max_length=512,\n",
    "        num_beams=10,  # 빔 서치 사용 (선택)\n",
    "        early_stopping=True\n",
    "    )\n",
    "\n",
    "# 생성된 토큰 ID를 텍스트로 디코딩\n",
    "sql_query = large_tokenizer.decode(outputs[0], skip_special_tokens=True)\n",
    "\n",
    "# 결과 출력\n",
    "print(\"Generated SQL Query:\", sql_query)"
   ]
  }
 ],
 "metadata": {
  "kernelspec": {
   "display_name": "Python 3",
   "language": "python",
   "name": "python3"
  },
  "language_info": {
   "codemirror_mode": {
    "name": "ipython",
    "version": 3
   },
   "file_extension": ".py",
   "mimetype": "text/x-python",
   "name": "python",
   "nbconvert_exporter": "python",
   "pygments_lexer": "ipython3",
   "version": "3.11.10"
  }
 },
 "nbformat": 4,
 "nbformat_minor": 2
}
