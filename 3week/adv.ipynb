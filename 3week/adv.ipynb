{
 "cells": [
  {
   "cell_type": "markdown",
   "metadata": {
    "id": "sbgz49PvHhLt"
   },
   "source": [
    "## [MYCODE] 데이터 다운로드 및 확인하기"
   ]
  },
  {
   "cell_type": "code",
   "execution_count": 1,
   "metadata": {},
   "outputs": [
    {
     "name": "stdout",
     "output_type": "stream",
     "text": [
      "--------------------------TRAIN DATA--------------------------\n",
      "        promptID   pairID                                            premise  \\\n",
      "0          31193   31193n  Conceptually cream skimming has two basic dime...   \n",
      "1         101457  101457e  you know during the season and i guess at at y...   \n",
      "2         134793  134793e  One of our number will carry out your instruct...   \n",
      "3          37397   37397e  How do you know? All this is their information...   \n",
      "4          50563   50563n  yeah i tell you what though if you go price so...   \n",
      "...          ...      ...                                                ...   \n",
      "392697     30418   30418c    Clearly, California can - and must - do better.   \n",
      "392698    105454  105454n  It was once regarded as the most beautiful str...   \n",
      "392699     13960   13960e  Houseboats are a beautifully preserved traditi...   \n",
      "392700    114061  114061n  Obituaries fondly recalled his on-air debates ...   \n",
      "392701      2065    2065n  in that other you know uh that i should do it ...   \n",
      "\n",
      "                                     premise_binary_parse  \\\n",
      "0       ( ( Conceptually ( cream skimming ) ) ( ( has ...   \n",
      "1       ( you ( ( know ( during ( ( ( the season ) and...   \n",
      "2       ( ( One ( of ( our number ) ) ) ( ( will ( ( (...   \n",
      "3       ( ( How ( ( ( do you ) know ) ? ) ) ( ( All th...   \n",
      "4       ( yeah ( i ( ( tell you ) ( what ( ( though ( ...   \n",
      "...                                                   ...   \n",
      "392697  ( Clearly ( , ( California ( ( ( can ( - ( and...   \n",
      "392698  ( It ( ( ( was once ) ( regarded ( as ( ( the ...   \n",
      "392699  ( Houseboats ( ( are ( ( a ( ( beautifully pre...   \n",
      "392700  ( Obituaries ( fondly ( ( ( ( recalled ( his (...   \n",
      "392701  ( ( ( ( in ( that other ) ) ( you ( know ( uh ...   \n",
      "\n",
      "                                            premise_parse  \\\n",
      "0       (ROOT (S (NP (JJ Conceptually) (NN cream) (NN ...   \n",
      "1       (ROOT (S (NP (PRP you)) (VP (VBP know) (PP (IN...   \n",
      "2       (ROOT (S (NP (NP (CD One)) (PP (IN of) (NP (PR...   \n",
      "3       (ROOT (S (SBARQ (WHADVP (WRB How)) (SQ (VBP do...   \n",
      "4       (ROOT (S (VP (VB yeah) (S (NP (FW i)) (VP (VB ...   \n",
      "...                                                   ...   \n",
      "392697  (ROOT (S (ADVP (RB Clearly)) (, ,) (NP (NNP Ca...   \n",
      "392698  (ROOT (S (NP (PRP It)) (VP (VBD was) (ADVP (RB...   \n",
      "392699  (ROOT (S (NP (NNS Houseboats)) (VP (VBP are) (...   \n",
      "392700  (ROOT (S (NP (NNS Obituaries)) (ADVP (RB fondl...   \n",
      "392701  (ROOT (SBAR (SBAR (WHPP (IN in) (WHNP (WDT tha...   \n",
      "\n",
      "                                               hypothesis  \\\n",
      "0       Product and geography are what make cream skim...   \n",
      "1       You lose the things to the following level if ...   \n",
      "2       A member of my team will execute your orders w...   \n",
      "3                       This information belongs to them.   \n",
      "4                The tennis shoes have a range of prices.   \n",
      "...                                                   ...   \n",
      "392697                   California cannot do any better.   \n",
      "392698  So many of the original buildings had been rep...   \n",
      "392699  The tradition of houseboats originated while t...   \n",
      "392700  The obituaries were beautiful and written in k...   \n",
      "392701  My husband has been so overworked lately that ...   \n",
      "\n",
      "                                  hypothesis_binary_parse  \\\n",
      "0       ( ( ( Product and ) geography ) ( ( are ( what...   \n",
      "1       ( You ( ( ( ( lose ( the things ) ) ( to ( the...   \n",
      "2       ( ( ( A member ) ( of ( my team ) ) ) ( ( will...   \n",
      "3       ( ( This information ) ( ( belongs ( to them )...   \n",
      "4       ( ( The ( tennis shoes ) ) ( ( have ( ( a rang...   \n",
      "...                                                   ...   \n",
      "392697  ( California ( ( ( can not ) ( do ( any better...   \n",
      "392698  ( So ( ( many ( of ( the ( original buildings ...   \n",
      "392699  ( ( ( The tradition ) ( of houseboats ) ) ( ( ...   \n",
      "392700  ( ( The obituaries ) ( ( were ( ( beautiful an...   \n",
      "392701  ( ( My husband ) ( ( has ( ( been ( so overwor...   \n",
      "\n",
      "                                         hypothesis_parse       genre  label  \n",
      "0       (ROOT (S (NP (NN Product) (CC and) (NN geograp...  government      1  \n",
      "1       (ROOT (S (NP (PRP You)) (VP (VBP lose) (NP (DT...   telephone      0  \n",
      "2       (ROOT (S (NP (NP (DT A) (NN member)) (PP (IN o...     fiction      0  \n",
      "3       (ROOT (S (NP (DT This) (NN information)) (VP (...     fiction      0  \n",
      "4       (ROOT (S (NP (DT The) (NN tennis) (NNS shoes))...   telephone      1  \n",
      "...                                                   ...         ...    ...  \n",
      "392697  (ROOT (S (NP (NNP California)) (VP (MD can) (R...  government      2  \n",
      "392698  (ROOT (S (IN So) (NP (NP (JJ many)) (PP (IN of...      travel      1  \n",
      "392699  (ROOT (S (NP (NP (DT The) (NN tradition)) (PP ...      travel      0  \n",
      "392700  (ROOT (S (NP (DT The) (NNS obituaries)) (VP (V...       slate      1  \n",
      "392701  (ROOT (S (NP (PRP$ My) (NN husband)) (VP (VBZ ...   telephone      1  \n",
      "\n",
      "[392702 rows x 10 columns]\n",
      "--------------------------TEST DATA--------------------------\n",
      "   promptID  pairID                                            premise  \\\n",
      "0     63735  63735n                     The new rights are nice enough   \n",
      "1     91383  91383c  This site includes a list of all award winners...   \n",
      "2       755    755e  uh i don't know i i have mixed emotions about ...   \n",
      "3     78013  78013c  yeah i i think my favorite restaurant is alway...   \n",
      "4     96377  96377c         i don't know um do you do a lot of camping   \n",
      "\n",
      "                                premise_binary_parse  \\\n",
      "0  ( ( The ( new rights ) ) ( are ( nice enough )...   \n",
      "1  ( ( This site ) ( ( includes ( ( ( ( a list ) ...   \n",
      "2  ( ( ( ( uh ( i ( ( do n't ) ( know ( ( i i ) (...   \n",
      "3  ( yeah ( ( i i ) ( think ( ( my ( favorite res...   \n",
      "4  ( i ( ( do n't ) ( know ( um ( do ( you ( do (...   \n",
      "\n",
      "                                       premise_parse  \\\n",
      "0  (ROOT (S (NP (DT The) (JJ new) (NNS rights)) (...   \n",
      "1  (ROOT (S (NP (DT This) (NN site)) (VP (VBZ inc...   \n",
      "2  (ROOT (SINV (S (S (INTJ (UH uh)) (NP (FW i)) (...   \n",
      "3  (ROOT (S (VP (VB yeah) (NP (NP (FW i) (FW i)) ...   \n",
      "4  (ROOT (S (NP (FW i)) (VP (VBP do) (RB n't) (VP...   \n",
      "\n",
      "                                          hypothesis  \\\n",
      "0         Everyone really likes the newest benefits    \n",
      "1  The Government Executive articles housed on th...   \n",
      "2  I like him for the most part, but would still ...   \n",
      "3  My favorite restaurants are always at least a ...   \n",
      "4                                    I know exactly.   \n",
      "\n",
      "                             hypothesis_binary_parse  \\\n",
      "0  ( Everyone ( really ( likes ( the ( newest ben...   \n",
      "1  ( ( ( The ( Government ( Executive articles ) ...   \n",
      "2  ( I ( ( ( ( ( ( like him ) ( for ( the ( most ...   \n",
      "3  ( ( My ( favorite restaurants ) ) ( ( ( ( are ...   \n",
      "4                       ( I ( ( know exactly ) . ) )   \n",
      "\n",
      "                                    hypothesis_parse       genre  label  \n",
      "0  (ROOT (S (NP (NN Everyone)) (VP (ADVP (RB real...       slate      1  \n",
      "1  (ROOT (S (NP (NP (DT The) (NNP Government) (NN...  government      2  \n",
      "2  (ROOT (S (NP (PRP I)) (VP (VP (VBP like) (NP (...   telephone      0  \n",
      "3  (ROOT (S (NP (PRP$ My) (JJ favorite) (NNS rest...   telephone      2  \n",
      "4  (ROOT (S (NP (PRP I)) (VP (VBP know) (ADVP (RB...   telephone      2  \n"
     ]
    }
   ],
   "source": [
    "import pandas as pd\n",
    "\n",
    "train_data_path = (\n",
    "    \"/Users/yunhyeokchoi/Study/AI 99+/archive/train.csv\"  # 실제 파일명으로 교체\n",
    ")\n",
    "test_data_path = \"/Users/yunhyeokchoi/Study/AI 99+/archive/validation_matched.csv\"\n",
    "train_data = pd.read_csv(train_data_path)\n",
    "test_data = pd.read_csv(test_data_path)\n",
    "# 데이터 확인\n",
    "print(\"--------------------------TRAIN DATA--------------------------\")\n",
    "print(train_data)\n",
    "print(\"--------------------------TEST DATA--------------------------\")\n",
    "print(test_data.head())"
   ]
  },
  {
   "cell_type": "markdown",
   "metadata": {},
   "source": [
    "## [LOG] 데이터 확인하기"
   ]
  },
  {
   "cell_type": "code",
   "execution_count": 2,
   "metadata": {},
   "outputs": [
    {
     "name": "stdout",
     "output_type": "stream",
     "text": [
      "(392702, 10)\n",
      "Index(['promptID', 'pairID', 'premise', 'premise_binary_parse',\n",
      "       'premise_parse', 'hypothesis', 'hypothesis_binary_parse',\n",
      "       'hypothesis_parse', 'genre', 'label'],\n",
      "      dtype='object')\n",
      "Conceptually cream skimming has two basic dimensions - product and geography.\n",
      "Product and geography are what make cream skimming work. \n",
      "1\n",
      "you know during the season and i guess at at your level uh you lose them to the next level if if they decide to recall the the parent team the Braves decide to call to recall a guy from triple A then a double A guy goes up to replace him and a single A guy goes up to replace him\n",
      "You lose the things to the following level if the people recall.\n",
      "0\n",
      "One of our number will carry out your instructions minutely.\n",
      "A member of my team will execute your orders with immense precision.\n",
      "0\n",
      "(9815, 10)\n"
     ]
    }
   ],
   "source": [
    "from datasets import Dataset\n",
    "\n",
    "\n",
    "print(train_data.shape)\n",
    "print(train_data.columns)\n",
    "\n",
    "print(train_data.iloc[0, 2])  # premise\n",
    "print(train_data.iloc[0, 5])  # hypothesis\n",
    "print(train_data.iloc[0, 9])  # label\n",
    "\n",
    "print(train_data.iloc[1, 2])  # premise\n",
    "print(train_data.iloc[1, 5])  # hypothesis\n",
    "print(train_data.iloc[1, 9])  # label\n",
    "\n",
    "print(train_data.iloc[2, 2])  # premise\n",
    "print(train_data.iloc[2, 5])  # hypothesis\n",
    "print(train_data.iloc[2, 9])  # label\n",
    "\n",
    "print(test_data.shape)\n",
    "\n"
   ]
  },
  {
   "cell_type": "markdown",
   "metadata": {
    "id": "6YP3FxG9IF7O"
   },
   "source": [
    "## [MYCODE] 학습에 맞도록 데이터 수정 및 확인하기"
   ]
  },
  {
   "cell_type": "code",
   "execution_count": 3,
   "metadata": {
    "id": "rE-y8sY9HuwP"
   },
   "outputs": [
    {
     "name": "stderr",
     "output_type": "stream",
     "text": [
      "Asking to truncate to max_length but no maximum length is provided and the model has no predefined maximum length. Default to no truncation.\n"
     ]
    },
    {
     "name": "stdout",
     "output_type": "stream",
     "text": [
      "{'premise': 'Conceptually cream skimming has two basic dimensions - product and geography.', 'hypothesis': 'Product and geography are what make cream skimming work. ', 'label': 1}\n",
      "First batch: (tensor([[  101,  2091,  1996,  ...,     0,     0,     0],\n",
      "        [  101,  1037,  2711,  ...,     0,     0,     0],\n",
      "        [  101,  2027,  2024,  ...,     0,     0,     0],\n",
      "        ...,\n",
      "        [  101,  1998,  7910,  ...,     0,     0,     0],\n",
      "        [  101,  1998,  7910,  ...,     0,     0,     0],\n",
      "        [  101, 14163, 11890,  ...,     0,     0,     0]]), tensor([0, 2, 1, 0, 0, 0, 2, 2, 1, 2, 1, 2, 2, 0, 0, 2, 1, 2, 0, 1, 1, 1, 0, 2,\n",
      "        1, 1, 1, 1, 2, 1, 1, 1]))\n"
     ]
    }
   ],
   "source": [
    "import torch\n",
    "from datasets import load_dataset\n",
    "from torch.utils.data import DataLoader\n",
    "from transformers import AutoTokenizer, AutoModel\n",
    "from datasets import Dataset\n",
    "\n",
    "train_data = Dataset.from_pandas(train_data)\n",
    "test_data = Dataset.from_pandas(test_data)\n",
    "\n",
    "tokenizer = AutoTokenizer.from_pretrained(\"huawei-noah/TinyBERT_General_4L_312D\")\n",
    "\n",
    "unnecessary_col = [\n",
    "    \"promptID\",\n",
    "    \"pairID\",\n",
    "    \"premise_binary_parse\",\n",
    "    \"premise_parse\",\n",
    "    \"hypothesis_binary_parse\",\n",
    "    \"hypothesis_parse\",\n",
    "    \"genre\",\n",
    "]\n",
    "\n",
    "# 필요한 열만 유지\n",
    "train_data = train_data.remove_columns(unnecessary_col)\n",
    "test_data = test_data.remove_columns(unnecessary_col)\n",
    "\n",
    "print(train_data[0])  # 정리된 데이터 확인\n",
    "\n",
    "\n",
    "def collate_fn(batch):\n",
    "    text_1, text_2, labels = [], [], []\n",
    "    for row in batch:\n",
    "        if row[\"premise\"] and row[\"hypothesis\"]:  # None 또는 빈 값 확인\n",
    "            text_1.append(row[\"premise\"])\n",
    "            text_2.append(row[\"hypothesis\"])\n",
    "            labels.append(row[\"label\"])\n",
    "\n",
    "    if len(text_1) == 0 or len(text_2) == 0:\n",
    "        raise ValueError(\"Batch contains no valid data.\")\n",
    "\n",
    "    encodings = tokenizer(\n",
    "        text_1, text_pair=text_2, padding=True, truncation=True, return_tensors=\"pt\"\n",
    "    )\n",
    "    return encodings[\"input_ids\"], torch.tensor(labels)\n",
    "\n",
    "\n",
    "train_data = train_data.select(range(20000))  # 학습 시간을 고려해 데이터 줄이기\n",
    "train_data = train_data.with_format(\"torch\")\n",
    "train_loader = DataLoader(\n",
    "    train_data, batch_size=32, shuffle=True, collate_fn=collate_fn\n",
    ")\n",
    "test_loader = DataLoader(\n",
    "    test_data.with_format(\"torch\"), batch_size=64, shuffle=False, collate_fn=collate_fn\n",
    ")\n",
    "\n",
    "batch = next(iter(train_loader))\n",
    "print(f\"First batch: {batch}\")"
   ]
  },
  {
   "cell_type": "markdown",
   "metadata": {},
   "source": [
    "## [LOG] 데이터 분석해보기"
   ]
  },
  {
   "cell_type": "code",
   "execution_count": 4,
   "metadata": {},
   "outputs": [
    {
     "name": "stdout",
     "output_type": "stream",
     "text": [
      "torch.Size([32, 121]) torch.Size([32])\n",
      "tensor([ 101, 2544, 1020, 1012, 2871, 1997, 2128, 5244, 4215, 2001, 4846, 2005,\n",
      "        2023, 4106, 1012,  102, 2128, 5244, 4215, 2544, 1021, 1012, 2322, 2001,\n",
      "        2109, 2000, 3143, 1996, 4106, 1012,  102,    0,    0,    0,    0,    0,\n",
      "           0,    0,    0,    0,    0,    0,    0,    0,    0,    0,    0,    0,\n",
      "           0,    0,    0,    0,    0,    0,    0,    0,    0,    0,    0,    0,\n",
      "           0,    0,    0,    0,    0,    0,    0,    0,    0,    0,    0,    0,\n",
      "           0,    0,    0,    0,    0,    0,    0,    0,    0,    0,    0,    0,\n",
      "           0,    0,    0,    0,    0,    0,    0,    0,    0,    0,    0,    0,\n",
      "           0,    0,    0,    0,    0,    0,    0,    0,    0,    0,    0,    0,\n",
      "           0,    0,    0,    0,    0,    0,    0,    0,    0,    0,    0,    0,\n",
      "           0])\n",
      "tensor([  101,  3095,  2372,  2012,  2216,  6736,  2064, 10651,  1996,  3784,\n",
      "         2592,  2055,  1996,  2578,  2027,  3073,  1998,  2027,  2064,  5587,\n",
      "         2000,  2019,  4816,  3075,  1997,  3423,  2592,  1999,  2260,  2367,\n",
      "         3218,  2752,  1011,  1011,  2302,  2975,  2037,  4822,  1012,   102,\n",
      "         6736,  2024,  2583,  2000,  2191, 14409,  3784,  2055,  2037,  3454,\n",
      "         1012,   102,     0,     0,     0,     0,     0,     0,     0,     0,\n",
      "            0,     0,     0,     0,     0,     0,     0,     0,     0,     0,\n",
      "            0,     0,     0,     0,     0,     0,     0,     0,     0,     0,\n",
      "            0,     0,     0,     0,     0,     0,     0,     0,     0,     0,\n",
      "            0,     0,     0,     0,     0,     0,     0,     0,     0,     0,\n",
      "            0,     0,     0,     0,     0,     0,     0,     0,     0,     0,\n",
      "            0,     0,     0,     0,     0,     0,     0,     0,     0,     0,\n",
      "            0])\n",
      "train 데이터셋 - text의 최대 길이: 272\n",
      "train 데이터셋 - label의 종류: {0, 1, 2}\n",
      "test 데이터셋 - text의 최대 길이: 237\n",
      "test 데이터셋 - label의 종류: {0, 1, 2}\n"
     ]
    }
   ],
   "source": [
    "text_1, label = next(iter(train_loader))\n",
    "print(text_1.shape, label.shape)\n",
    "print(text_1[0])\n",
    "print(text_1[1])\n",
    "\n",
    "\n",
    "def analyze_datasets(loader):\n",
    "    all_lengths = []\n",
    "    all_labels = []\n",
    "\n",
    "    for text_1, labels in loader:\n",
    "        if text_1.dim() == 2 and text_1.size(1) > 0:  # 텍스트 형식 확인\n",
    "            all_lengths.append(text_1.size(1))\n",
    "\n",
    "        all_labels.extend(labels.tolist())\n",
    "\n",
    "    max_length = max(all_lengths) if all_lengths else 0\n",
    "    unique_labels = set(all_labels)\n",
    "\n",
    "    return max_length, unique_labels\n",
    "\n",
    "\n",
    "max_length, unique_labels = analyze_datasets(train_loader)\n",
    "print(f\"train 데이터셋 - text의 최대 길이: {max_length}\")\n",
    "print(f\"train 데이터셋 - label의 종류: {unique_labels}\")\n",
    "\n",
    "max_length, unique_labels = analyze_datasets(test_loader)\n",
    "print(f\"test 데이터셋 - text의 최대 길이: {max_length}\")\n",
    "print(f\"test 데이터셋 - label의 종류: {unique_labels}\")"
   ]
  },
  {
   "cell_type": "markdown",
   "metadata": {
    "id": "uh-tqY8WInQt"
   },
   "source": [
    "## [MYCODE] 모델 만들기 및 모델에 데이터 넣어 출력값 확인해보기"
   ]
  },
  {
   "cell_type": "code",
   "execution_count": 4,
   "metadata": {
    "colab": {
     "base_uri": "https://localhost:8080/"
    },
    "id": "xW7ETZQzzNp2",
    "outputId": "acae0d36-0b4a-4c7c-a0cd-5171e7158cf2"
   },
   "outputs": [
    {
     "name": "stderr",
     "output_type": "stream",
     "text": [
      "huggingface/tokenizers: The current process just got forked, after parallelism has already been used. Disabling parallelism to avoid deadlocks...\n",
      "To disable this warning, you can either:\n",
      "\t- Avoid using `tokenizers` before the fork if possible\n",
      "\t- Explicitly set the environment variable TOKENIZERS_PARALLELISM=(true | false)\n",
      "We strongly recommend passing in an `attention_mask` since your input_ids may be padded. See https://huggingface.co/docs/transformers/troubleshooting#incorrect-output-when-padding-tokens-arent-masked.\n"
     ]
    },
    {
     "name": "stdout",
     "output_type": "stream",
     "text": [
      "MNLIClassifier Result: tensor([[ 0.2815,  0.5223, -0.3678],\n",
      "        [ 0.2557,  0.1950,  0.1375],\n",
      "        [ 0.2557,  0.1950,  0.1375]], grad_fn=<AddmmBackward0>)\n",
      "UnpretrainedMNLIClassifier Result: tensor([[-0.1555, -0.3793, -0.6768],\n",
      "        [ 0.3246, -0.4871, -0.4666],\n",
      "        [ 0.3873, -0.2254, -0.3891]], grad_fn=<AddmmBackward0>)\n"
     ]
    }
   ],
   "source": [
    "from torch import nn\n",
    "from torch.optim import Adam\n",
    "import numpy as np\n",
    "import matplotlib.pyplot as plt\n",
    "from transformers import BertConfig, BertModel\n",
    "\n",
    "\n",
    "class MNLIClassifier(nn.Module):\n",
    "    def __init__(self):\n",
    "        super().__init__()\n",
    "\n",
    "        # TinylBERT 모델 로드\n",
    "        self.encoder = AutoModel.from_pretrained(\"huawei-noah/TinyBERT_General_4L_312D\")\n",
    "        self.classifier = nn.Linear(312, 3)\n",
    "\n",
    "    def forward(self, x1):\n",
    "        # TinylBERT 출력\n",
    "        output = self.encoder(x1)\n",
    "        CLS_token = output[\"last_hidden_state\"][:, 0]\n",
    "        x = self.classifier(CLS_token)\n",
    "        return x\n",
    "\n",
    "\n",
    "class UnpretrainedMNLIClassifier(nn.Module):\n",
    "    def __init__(self):\n",
    "        super().__init__()\n",
    "        # TinylBERT 설정 생성\n",
    "        tinybert_config = BertConfig(\n",
    "            hidden_size=312,  # Hidden size\n",
    "            num_hidden_layers=4,  # Transformer layers\n",
    "            num_attention_heads=12,  # Attention heads\n",
    "            intermediate_size=1200,  # Feedforward layer size\n",
    "            hidden_dropout_prob=0.1,  # Dropout probability\n",
    "        )\n",
    "\n",
    "        # 사전 학습되지 않은 TinylBERT 모델 로드\n",
    "        self.encoder = BertModel(tinybert_config)\n",
    "        self.classifier = nn.Linear(312, 3)\n",
    "\n",
    "    def forward(self, x1):\n",
    "        # TinylBERT 출력\n",
    "        output = self.encoder(x1)\n",
    "        CLS_token = output[\"last_hidden_state\"][:, 0]\n",
    "        x = self.classifier(CLS_token)\n",
    "        return x\n",
    "\n",
    "\n",
    "device = torch.device(\"mps\") if torch.backends.mps.is_built() else torch.device(\"cpu\")\n",
    "\n",
    "trained_model = MNLIClassifier()\n",
    "untrained_model = UnpretrainedMNLIClassifier()\n",
    "\n",
    "# 입력 준비\n",
    "long_text = \"This is a long text. \" * 70\n",
    "texts = [\"This is a sample sentence. This is second sentence.\", long_text, long_text]\n",
    "encoded = tokenizer(\n",
    "    texts, padding=True, truncation=True, max_length=400, return_tensors=\"pt\"\n",
    ")\n",
    "\n",
    "# 모델에 입력 전달해 출력 확인해보기\n",
    "input_ids = encoded[\"input_ids\"]\n",
    "output = trained_model(input_ids)\n",
    "print(f\"MNLIClassifier Result: {output}\")\n",
    "\n",
    "output = untrained_model(input_ids)\n",
    "print(f\"UnpretrainedMNLIClassifier Result: {output}\")\n",
    "\n",
    "lr = 0.001\n",
    "trained_model = trained_model.to(device)\n",
    "untrained_model = untrained_model.to(device)\n",
    "\n",
    "loss_fn = nn.CrossEntropyLoss()\n",
    "t_optimizer = Adam(trained_model.parameters(), lr=lr)\n",
    "ut_optimizer = Adam(untrained_model.parameters(), lr=lr)\n",
    "n_epochs = 10\n",
    "\n",
    "for param in trained_model.encoder.parameters():\n",
    "    param.requires_grad = False"
   ]
  },
  {
   "cell_type": "markdown",
   "metadata": {},
   "source": [
    "## [LOG] 사전 학습 모델과 학습 되지 않은 모델 10에폭시로 학습시켜 확인하기\n",
    "- 학습이 잘 되지 않은 것 같아 추가적인 방법 고민해 적용할 예정."
   ]
  },
  {
   "cell_type": "code",
   "execution_count": 6,
   "metadata": {
    "colab": {
     "base_uri": "https://localhost:8080/"
    },
    "id": "XvvaAEwCznt-",
    "outputId": "3363b8ca-7695-493f-96a0-5aa6b52d1d60"
   },
   "outputs": [
    {
     "data": {
      "application/vnd.jupyter.widget-view+json": {
       "model_id": "310b664b6a16451c98840bc3f21fb4f7",
       "version_major": 2,
       "version_minor": 0
      },
      "text/plain": [
       "Epoch 1/10:   0%|          | 0/625 [00:00<?, ?batch/s]"
      ]
     },
     "metadata": {},
     "output_type": "display_data"
    },
    {
     "name": "stdout",
     "output_type": "stream",
     "text": [
      "=========> Train acc: 0.410 | Test acc: 0.327\n"
     ]
    },
    {
     "data": {
      "application/vnd.jupyter.widget-view+json": {
       "model_id": "278d154093eb469c92e73e232a5d75e7",
       "version_major": 2,
       "version_minor": 0
      },
      "text/plain": [
       "Epoch 2/10:   0%|          | 0/625 [00:00<?, ?batch/s]"
      ]
     },
     "metadata": {},
     "output_type": "display_data"
    },
    {
     "name": "stdout",
     "output_type": "stream",
     "text": [
      "=========> Train acc: 0.451 | Test acc: 0.354\n"
     ]
    },
    {
     "data": {
      "application/vnd.jupyter.widget-view+json": {
       "model_id": "d5dc5238289b4a14ac2f3c466df40dfa",
       "version_major": 2,
       "version_minor": 0
      },
      "text/plain": [
       "Epoch 3/10:   0%|          | 0/625 [00:00<?, ?batch/s]"
      ]
     },
     "metadata": {},
     "output_type": "display_data"
    },
    {
     "name": "stdout",
     "output_type": "stream",
     "text": [
      "=========> Train acc: 0.447 | Test acc: 0.354\n"
     ]
    },
    {
     "data": {
      "application/vnd.jupyter.widget-view+json": {
       "model_id": "249e1ec2cdc943a885300a942440a744",
       "version_major": 2,
       "version_minor": 0
      },
      "text/plain": [
       "Epoch 4/10:   0%|          | 0/625 [00:00<?, ?batch/s]"
      ]
     },
     "metadata": {},
     "output_type": "display_data"
    },
    {
     "name": "stdout",
     "output_type": "stream",
     "text": [
      "=========> Train acc: 0.442 | Test acc: 0.327\n"
     ]
    },
    {
     "data": {
      "application/vnd.jupyter.widget-view+json": {
       "model_id": "58888c347ccf44f7b28d4ef5ae191f8e",
       "version_major": 2,
       "version_minor": 0
      },
      "text/plain": [
       "Epoch 5/10:   0%|          | 0/625 [00:00<?, ?batch/s]"
      ]
     },
     "metadata": {},
     "output_type": "display_data"
    },
    {
     "name": "stdout",
     "output_type": "stream",
     "text": [
      "=========> Train acc: 0.425 | Test acc: 0.327\n"
     ]
    },
    {
     "data": {
      "application/vnd.jupyter.widget-view+json": {
       "model_id": "c94b3aa65fac48409e5705f112ee5d36",
       "version_major": 2,
       "version_minor": 0
      },
      "text/plain": [
       "Epoch 6/10:   0%|          | 0/625 [00:00<?, ?batch/s]"
      ]
     },
     "metadata": {},
     "output_type": "display_data"
    },
    {
     "name": "stdout",
     "output_type": "stream",
     "text": [
      "=========> Train acc: 0.447 | Test acc: 0.327\n"
     ]
    },
    {
     "data": {
      "application/vnd.jupyter.widget-view+json": {
       "model_id": "f6581268afbd40d3af0cbea971275cb7",
       "version_major": 2,
       "version_minor": 0
      },
      "text/plain": [
       "Epoch 7/10:   0%|          | 0/625 [00:00<?, ?batch/s]"
      ]
     },
     "metadata": {},
     "output_type": "display_data"
    },
    {
     "name": "stdout",
     "output_type": "stream",
     "text": [
      "=========> Train acc: 0.382 | Test acc: 0.327\n"
     ]
    },
    {
     "data": {
      "application/vnd.jupyter.widget-view+json": {
       "model_id": "ac9fb8b755a04385b68ff18c4f2aa972",
       "version_major": 2,
       "version_minor": 0
      },
      "text/plain": [
       "Epoch 8/10:   0%|          | 0/625 [00:00<?, ?batch/s]"
      ]
     },
     "metadata": {},
     "output_type": "display_data"
    },
    {
     "name": "stdout",
     "output_type": "stream",
     "text": [
      "=========> Train acc: 0.396 | Test acc: 0.327\n"
     ]
    },
    {
     "data": {
      "application/vnd.jupyter.widget-view+json": {
       "model_id": "71c05b39997e41e9a5137d48dd6f801e",
       "version_major": 2,
       "version_minor": 0
      },
      "text/plain": [
       "Epoch 9/10:   0%|          | 0/625 [00:00<?, ?batch/s]"
      ]
     },
     "metadata": {},
     "output_type": "display_data"
    },
    {
     "name": "stdout",
     "output_type": "stream",
     "text": [
      "=========> Train acc: 0.445 | Test acc: 0.327\n"
     ]
    },
    {
     "data": {
      "application/vnd.jupyter.widget-view+json": {
       "model_id": "5cd611d04fe84a7a9262796d6082423d",
       "version_major": 2,
       "version_minor": 0
      },
      "text/plain": [
       "Epoch 10/10:   0%|          | 0/625 [00:00<?, ?batch/s]"
      ]
     },
     "metadata": {},
     "output_type": "display_data"
    },
    {
     "name": "stdout",
     "output_type": "stream",
     "text": [
      "=========> Train acc: 0.440 | Test acc: 0.327\n"
     ]
    },
    {
     "data": {
      "image/png": "[encoded data removed]",
      "text/plain": [
       "<Figure size 1000x500 with 1 Axes>"
      ]
     },
     "metadata": {},
     "output_type": "display_data"
    }
   ],
   "source": [
    "from tqdm.notebook import tqdm\n",
    "\n",
    "\n",
    "def accuracy(model, dataloader):\n",
    "    cnt = 0\n",
    "    acc = 0\n",
    "\n",
    "    for data in dataloader:\n",
    "        inputs_1, labels = data\n",
    "        inputs_1, labels = inputs_1.to(device), labels.to(device).long()\n",
    "\n",
    "        preds = model(inputs_1)\n",
    "        preds = torch.argmax(preds, dim=-1)\n",
    "        cnt += labels.shape[0]\n",
    "        acc += (labels == preds).sum().item()\n",
    "\n",
    "    return acc / cnt\n",
    "\n",
    "\n",
    "def live_plot(\n",
    "    train_accs,\n",
    "    untrain_accs,\n",
    "    title=\"Real-time Accuracy\",\n",
    "    label1=\"train\",\n",
    "    label2=\"untrain\",\n",
    "):\n",
    "    # 플롯 크기 설정\n",
    "    plt.figure(figsize=(10, 5))\n",
    "\n",
    "    plt.subplot(2, 1, 1)\n",
    "    x = np.arange(len(train_accs))\n",
    "    plt.plot(x, train_accs, label=\"train\", color=\"blue\", marker=\"o\")\n",
    "    plt.plot(x, untrain_accs, label=\"untrain\", color=\"red\", marker=\"o\")\n",
    "    plt.title(\"Train vs Untrain\")\n",
    "    plt.xlabel(\"Epochs\")\n",
    "    plt.ylabel(\"Accuracy\")\n",
    "    plt.legend()\n",
    "\n",
    "    # 플롯 간격 조정 및 출력\n",
    "    plt.tight_layout()\n",
    "    plt.show()\n",
    "\n",
    "\n",
    "train_accs = []\n",
    "untrain_accs = []\n",
    "\n",
    "for epoch in range(n_epochs):\n",
    "    with tqdm(\n",
    "        train_loader,\n",
    "        desc=f\"Epoch {epoch+1}/{n_epochs}\",\n",
    "        unit=\"batch\",\n",
    "        total=len(train_loader),\n",
    "    ) as pbar:\n",
    "        trained_model.train()\n",
    "        untrained_model.train()\n",
    "        for data in train_loader:\n",
    "            trained_model.zero_grad()\n",
    "            untrained_model.zero_grad()\n",
    "            inputs_1, labels = data\n",
    "            inputs_1, labels = inputs_1.to(device), labels.to(device).long()\n",
    "\n",
    "            t_preds = trained_model(inputs_1)\n",
    "            t_loss = loss_fn(t_preds, labels)\n",
    "            t_loss.backward()\n",
    "            t_optimizer.step()\n",
    "\n",
    "            ut_preds = untrained_model(inputs_1)\n",
    "            ut_loss = loss_fn(ut_preds, labels)\n",
    "            ut_loss.backward()\n",
    "            ut_optimizer.step()\n",
    "\n",
    "        with torch.no_grad():\n",
    "            trained_model.eval()\n",
    "            untrained_model.eval()\n",
    "            train_acc = accuracy(trained_model, test_loader)\n",
    "            untrain_acc = accuracy(untrained_model, test_loader)\n",
    "            train_accs.append(train_acc)\n",
    "            untrain_accs.append(untrain_acc)\n",
    "            print(\n",
    "                f\"=========> Train acc: {train_acc:.3f} | Test acc: {untrain_acc:.3f}\"\n",
    "            )\n",
    "live_plot(train_accs, untrain_accs)"
   ]
  },
  {
   "cell_type": "markdown",
   "metadata": {},
   "source": [
    "## [LOG] 에폭시를 10 에서 30으로 늘려보기\n",
    "- 사전 학습 모델은 조금 증가한 듯 보이나 비학습 모델의 정확도가 뭔가 이상해보임."
   ]
  },
  {
   "cell_type": "code",
   "execution_count": 5,
   "metadata": {},
   "outputs": [
    {
     "name": "stdout",
     "output_type": "stream",
     "text": [
      "=========> Train acc: 0.424 | untrain acc: 0.354\n",
      "=========> Train acc: 0.434 | untrain acc: 0.327\n",
      "=========> Train acc: 0.417 | untrain acc: 0.327\n",
      "=========> Train acc: 0.443 | untrain acc: 0.327\n",
      "=========> Train acc: 0.464 | untrain acc: 0.327\n",
      "=========> Train acc: 0.450 | untrain acc: 0.327\n",
      "=========> Train acc: 0.457 | untrain acc: 0.327\n",
      "=========> Train acc: 0.445 | untrain acc: 0.327\n",
      "=========> Train acc: 0.453 | untrain acc: 0.327\n",
      "=========> Train acc: 0.455 | untrain acc: 0.354\n",
      "=========> Train acc: 0.449 | untrain acc: 0.327\n",
      "=========> Train acc: 0.431 | untrain acc: 0.327\n",
      "=========> Train acc: 0.461 | untrain acc: 0.327\n",
      "=========> Train acc: 0.417 | untrain acc: 0.327\n",
      "=========> Train acc: 0.438 | untrain acc: 0.327\n",
      "=========> Train acc: 0.458 | untrain acc: 0.327\n",
      "=========> Train acc: 0.420 | untrain acc: 0.327\n",
      "=========> Train acc: 0.466 | untrain acc: 0.327\n",
      "=========> Train acc: 0.464 | untrain acc: 0.327\n",
      "=========> Train acc: 0.440 | untrain acc: 0.327\n",
      "=========> Train acc: 0.415 | untrain acc: 0.327\n",
      "=========> Train acc: 0.471 | untrain acc: 0.327\n",
      "=========> Train acc: 0.464 | untrain acc: 0.327\n",
      "=========> Train acc: 0.463 | untrain acc: 0.327\n",
      "=========> Train acc: 0.459 | untrain acc: 0.327\n",
      "=========> Train acc: 0.421 | untrain acc: 0.327\n",
      "=========> Train acc: 0.441 | untrain acc: 0.327\n",
      "=========> Train acc: 0.467 | untrain acc: 0.327\n",
      "=========> Train acc: 0.467 | untrain acc: 0.327\n",
      "=========> Train acc: 0.439 | untrain acc: 0.327\n"
     ]
    },
    {
     "data": {
      "image/png": "[encoded data removed]",
      "text/plain": [
       "<Figure size 1000x500 with 1 Axes>"
      ]
     },
     "metadata": {},
     "output_type": "display_data"
    }
   ],
   "source": [
    "def accuracy(model, dataloader):\n",
    "    cnt = 0\n",
    "    acc = 0\n",
    "\n",
    "    for data in dataloader:\n",
    "        inputs_1, labels = data\n",
    "        inputs_1, labels = inputs_1.to(device), labels.to(device).long()\n",
    "\n",
    "        preds = model(inputs_1)\n",
    "        preds = torch.argmax(preds, dim=-1)\n",
    "        cnt += labels.shape[0]\n",
    "        acc += (labels == preds).sum().item()\n",
    "\n",
    "    return acc / cnt\n",
    "\n",
    "\n",
    "def live_plot(\n",
    "    train_accs,\n",
    "    untrain_accs,\n",
    "    title=\"Real-time Accuracy\",\n",
    "    label1=\"train\",\n",
    "    label2=\"untrain\",\n",
    "):\n",
    "    # 플롯 크기 설정\n",
    "    plt.figure(figsize=(10, 5))\n",
    "\n",
    "    plt.subplot(2, 1, 1)\n",
    "    x = np.arange(len(train_accs))\n",
    "    plt.plot(x, train_accs, label=\"train\", color=\"blue\", marker=\"o\")\n",
    "    plt.plot(x, untrain_accs, label=\"untrain\", color=\"red\", marker=\"o\")\n",
    "    plt.title(\"Train vs Untrain\")\n",
    "    plt.xlabel(\"Epochs\")\n",
    "    plt.ylabel(\"Accuracy\")\n",
    "    plt.legend()\n",
    "\n",
    "    # 플롯 간격 조정 및 출력\n",
    "    plt.tight_layout()\n",
    "    plt.show()\n",
    "\n",
    "trained_model_2 = MNLIClassifier()\n",
    "untrained_model_2 = UnpretrainedMNLIClassifier()\n",
    "t_optimizer_2 = Adam(trained_model_2.parameters(), lr=lr)\n",
    "ut_optimizer_2 = Adam(untrained_model_2.parameters(), lr=lr)\n",
    "trained_model_2 = trained_model_2.to(device)\n",
    "untrained_model_2 = untrained_model_2.to(device)\n",
    "n_epochs=30\n",
    "\n",
    "for param in trained_model_2.encoder.parameters():\n",
    "    param.requires_grad = False\n",
    "\n",
    "\n",
    "train_accs_e30 = []\n",
    "untrain_accs_e30 = []\n",
    "\n",
    "for epoch in range(n_epochs):\n",
    "    trained_model_2.train()\n",
    "    untrained_model_2.train()\n",
    "    for data in train_loader:\n",
    "        trained_model_2.zero_grad()\n",
    "        untrained_model_2.zero_grad()\n",
    "        inputs_1, labels = data\n",
    "        inputs_1, labels = inputs_1.to(device), labels.to(device).long()\n",
    "\n",
    "        t_preds = trained_model_2(inputs_1)\n",
    "        t_loss = loss_fn(t_preds, labels)\n",
    "        t_loss.backward()\n",
    "        t_optimizer_2.step()\n",
    "\n",
    "        ut_preds = untrained_model_2(inputs_1)\n",
    "        ut_loss = loss_fn(ut_preds, labels)\n",
    "        ut_loss.backward()\n",
    "        ut_optimizer_2.step()\n",
    "\n",
    "    with torch.no_grad():\n",
    "        trained_model_2.eval()\n",
    "        untrained_model_2.eval()\n",
    "        train_acc = accuracy(trained_model_2, test_loader)\n",
    "        untrain_acc = accuracy(untrained_model_2, test_loader)\n",
    "        train_accs_e30.append(train_acc)\n",
    "        untrain_accs_e30.append(untrain_acc)\n",
    "        print(f\"=========> Train acc: {train_acc:.3f} | untrain acc: {untrain_acc:.3f}\")\n",
    "live_plot(train_accs_e30, untrain_accs_e30)"
   ]
  },
  {
   "cell_type": "markdown",
   "metadata": {},
   "source": [
    "## [LOG] 파라미터 고정 해제해보기\n",
    "- 사전 학습 모델의 파라미터 고정을 해제하고, 미세한 조정을 위해 lr 값을 더 작게 수정"
   ]
  },
  {
   "cell_type": "code",
   "execution_count": 1,
   "metadata": {},
   "outputs": [
    {
     "name": "stderr",
     "output_type": "stream",
     "text": [
      "Asking to truncate to max_length but no maximum length is provided and the model has no predefined maximum length. Default to no truncation.\n",
      "We strongly recommend passing in an `attention_mask` since your input_ids may be padded. See https://huggingface.co/docs/transformers/troubleshooting#incorrect-output-when-padding-tokens-arent-masked.\n"
     ]
    },
    {
     "name": "stdout",
     "output_type": "stream",
     "text": [
      "=========> Train acc: 0.635 | Untrain acc: 0.318\n",
      "=========> Train acc: 0.679 | Untrain acc: 0.338\n",
      "=========> Train acc: 0.692 | Untrain acc: 0.354\n",
      "=========> Train acc: 0.697 | Untrain acc: 0.327\n",
      "=========> Train acc: 0.707 | Untrain acc: 0.327\n",
      "=========> Train acc: 0.723 | Untrain acc: 0.354\n",
      "=========> Train acc: 0.716 | Untrain acc: 0.328\n",
      "=========> Train acc: 0.719 | Untrain acc: 0.337\n",
      "=========> Train acc: 0.719 | Untrain acc: 0.354\n",
      "=========> Train acc: 0.716 | Untrain acc: 0.431\n"
     ]
    },
    {
     "data": {
      "image/png": "[encoded data removed]",
      "text/plain": [
       "<Figure size 1000x500 with 1 Axes>"
      ]
     },
     "metadata": {},
     "output_type": "display_data"
    }
   ],
   "source": [
    "import pandas as pd\n",
    "from datasets import Dataset\n",
    "from torch import nn\n",
    "from torch.optim import Adam\n",
    "import numpy as np\n",
    "import matplotlib.pyplot as plt\n",
    "from transformers import BertConfig, BertModel\n",
    "import torch\n",
    "from datasets import load_dataset\n",
    "from torch.utils.data import DataLoader\n",
    "from transformers import AutoTokenizer, AutoModel\n",
    "from datasets import Dataset\n",
    "\n",
    "train_data_path = (\n",
    "    \"/Users/yunhyeokchoi/Study/AI 99+/archive/train.csv\"\n",
    ")\n",
    "test_data_path = \"/Users/yunhyeokchoi/Study/AI 99+/archive/validation_matched.csv\"\n",
    "\n",
    "train_data = pd.read_csv(train_data_path)\n",
    "test_data = pd.read_csv(test_data_path)\n",
    "\n",
    "train_data = Dataset.from_pandas(train_data)\n",
    "test_data = Dataset.from_pandas(test_data)\n",
    "\n",
    "tokenizer = AutoTokenizer.from_pretrained(\"huawei-noah/TinyBERT_General_4L_312D\")\n",
    "\n",
    "unnecessary_col = [\n",
    "    \"promptID\",\n",
    "    \"pairID\",\n",
    "    \"premise_binary_parse\",\n",
    "    \"premise_parse\",\n",
    "    \"hypothesis_binary_parse\",\n",
    "    \"hypothesis_parse\",\n",
    "    \"genre\",\n",
    "]\n",
    "\n",
    "# 필요한 열만 유지\n",
    "train_data = train_data.remove_columns(unnecessary_col)\n",
    "test_data = test_data.remove_columns(unnecessary_col)\n",
    "\n",
    "def collate_fn(batch):\n",
    "    text_1, text_2, labels = [], [], []\n",
    "    for row in batch:\n",
    "        if row[\"premise\"] and row[\"hypothesis\"]:  # None 또는 빈 값 확인\n",
    "            text_1.append(row[\"premise\"])\n",
    "            text_2.append(row[\"hypothesis\"])\n",
    "            labels.append(row[\"label\"])\n",
    "\n",
    "    if len(text_1) == 0 or len(text_2) == 0:\n",
    "        raise ValueError(\"Batch contains no valid data.\")\n",
    "\n",
    "    encodings = tokenizer(\n",
    "        text_1, text_pair=text_2, padding=True, truncation=True, return_tensors=\"pt\"\n",
    "    )\n",
    "    return encodings[\"input_ids\"], torch.tensor(labels)\n",
    "\n",
    "train_data = train_data.select(range(10000))  # 학습 시간을 고려해 데이터 줄이기 (2만 -> 1만으로 줄이기)\n",
    "train_data = train_data.with_format(\"torch\")\n",
    "train_loader = DataLoader(\n",
    "    train_data, batch_size=32, shuffle=True, collate_fn=collate_fn\n",
    ")\n",
    "test_loader = DataLoader(\n",
    "    test_data.with_format(\"torch\"), batch_size=64, shuffle=False, collate_fn=collate_fn\n",
    ")\n",
    "\n",
    "class MNLIClassifier(nn.Module):\n",
    "    def __init__(self):\n",
    "        super().__init__()\n",
    "\n",
    "        # TinylBERT 모델 로드\n",
    "        self.encoder = AutoModel.from_pretrained(\"huawei-noah/TinyBERT_General_4L_312D\")\n",
    "        self.classifier = nn.Linear(312, 3)\n",
    "\n",
    "    def forward(self, x1):\n",
    "        # TinylBERT 출력\n",
    "        output = self.encoder(x1)\n",
    "        CLS_token = output[\"last_hidden_state\"][:, 0]\n",
    "        x = self.classifier(CLS_token)\n",
    "        return x\n",
    "\n",
    "class UnpretrainedMNLIClassifier(nn.Module):\n",
    "    def __init__(self):\n",
    "        super().__init__()\n",
    "        # TinylBERT 설정 생성\n",
    "        tinybert_config = BertConfig(\n",
    "            hidden_size=312,  # Hidden size\n",
    "            num_hidden_layers=4,  # Transformer layers\n",
    "            num_attention_heads=12,  # Attention heads\n",
    "            intermediate_size=1200,  # Feedforward layer size\n",
    "            hidden_dropout_prob=0.1,  # Dropout probability\n",
    "        )\n",
    "\n",
    "        # 사전 학습되지 않은 TinylBERT 모델 로드\n",
    "        self.encoder = BertModel(tinybert_config)\n",
    "        self.classifier = nn.Linear(312, 3)\n",
    "\n",
    "    def forward(self, x1):\n",
    "        # TinylBERT 출력\n",
    "        output = self.encoder(x1)\n",
    "        CLS_token = output[\"last_hidden_state\"][:, 0]\n",
    "        x = self.classifier(CLS_token)\n",
    "        return x\n",
    "\n",
    "device = torch.device(\"mps\") if torch.backends.mps.is_built() else torch.device(\"cpu\")\n",
    "\n",
    "def accuracy(model, dataloader):\n",
    "    cnt = 0\n",
    "    acc = 0\n",
    "\n",
    "    for data in dataloader:\n",
    "        inputs_1, labels = data\n",
    "        inputs_1, labels = inputs_1.to(device), labels.to(device).long()\n",
    "\n",
    "        preds = model(inputs_1)\n",
    "        preds = torch.argmax(preds, dim=-1)\n",
    "        cnt += labels.shape[0]\n",
    "        acc += (labels == preds).sum().item()\n",
    "\n",
    "    return acc / cnt\n",
    "\n",
    "def live_plot(\n",
    "    train_accs,\n",
    "    untrain_accs,\n",
    "    title=\"Real-time Accuracy\",\n",
    "    label1=\"train\",\n",
    "    label2=\"untrain\",\n",
    "):\n",
    "    # 플롯 크기 설정\n",
    "    plt.figure(figsize=(10, 5))\n",
    "\n",
    "    plt.subplot(2, 1, 1)\n",
    "    x = np.arange(len(train_accs))\n",
    "    plt.plot(x, train_accs, label=\"train\", color=\"blue\", marker=\"o\")\n",
    "    plt.plot(x, untrain_accs, label=\"untrain\", color=\"red\", marker=\"o\")\n",
    "    plt.title(\"Train vs Untrain\")\n",
    "    plt.xlabel(\"Epochs\")\n",
    "    plt.ylabel(\"Accuracy\")\n",
    "    plt.legend()\n",
    "\n",
    "    # 플롯 간격 조정 및 출력\n",
    "    plt.tight_layout()\n",
    "    plt.show()\n",
    "\n",
    "trained_model = MNLIClassifier()\n",
    "untrained_model = UnpretrainedMNLIClassifier()\n",
    "\n",
    "lr = 0.00001 # 미세한 조정을 위해 학습률 수정\n",
    "trained_model = trained_model.to(device)\n",
    "untrained_model = untrained_model.to(device)\n",
    "\n",
    "loss_fn = nn.CrossEntropyLoss()\n",
    "t_optimizer = Adam(trained_model.parameters(), lr=lr)\n",
    "ut_optimizer = Adam(untrained_model.parameters(), lr=lr)\n",
    "n_epochs = 10\n",
    "\n",
    "for param in trained_model.encoder.parameters(): # 파라미터 고정 해제\n",
    "    param.requires_grad = True\n",
    "\n",
    "for param in untrained_model.encoder.parameters(): # 비학습 모델의 파라미터 고정 해제\n",
    "    param.requires_grad = True\n",
    "\n",
    "\n",
    "train_accs = []\n",
    "untrain_accs = []\n",
    "\n",
    "for epoch in range(n_epochs):\n",
    "    trained_model.train()\n",
    "    untrained_model.train()\n",
    "    for data in train_loader:\n",
    "        trained_model.zero_grad()\n",
    "        untrained_model.zero_grad()\n",
    "        inputs_1, labels = data\n",
    "        inputs_1, labels = inputs_1.to(device), labels.to(device).long()\n",
    "\n",
    "        t_preds = trained_model(inputs_1)\n",
    "        t_loss = loss_fn(t_preds, labels)\n",
    "        t_loss.backward()\n",
    "        t_optimizer.step()\n",
    "\n",
    "        ut_preds = untrained_model(inputs_1)\n",
    "        ut_loss = loss_fn(ut_preds, labels)\n",
    "        ut_loss.backward()\n",
    "        ut_optimizer.step()\n",
    "\n",
    "    with torch.no_grad():\n",
    "        trained_model.eval()\n",
    "        untrained_model.eval()\n",
    "        train_acc = accuracy(trained_model, test_loader)\n",
    "        untrain_acc = accuracy(untrained_model, test_loader)\n",
    "        train_accs.append(train_acc)\n",
    "        untrain_accs.append(untrain_acc)\n",
    "        print(f\"=========> Train acc: {train_acc:.3f} | Untrain acc: {untrain_acc:.3f}\")\n",
    "live_plot(train_accs, untrain_accs)"
   ]
  }
 ],
 "metadata": {
  "accelerator": "GPU",
  "colab": {
   "gpuType": "T4",
   "provenance": []
  },
  "kernelspec": {
   "display_name": "Python 3",
   "language": "python",
   "name": "python3"
  },
  "language_info": {
   "codemirror_mode": {
    "name": "ipython",
    "version": 3
   },
   "file_extension": ".py",
   "mimetype": "text/x-python",
   "name": "python",
   "nbconvert_exporter": "python",
   "pygments_lexer": "ipython3",
   "version": "3.11.10"
  }
 },
 "nbformat": 4,
 "nbformat_minor": 0
}
